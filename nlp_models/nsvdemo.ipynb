{
 "cells": [
  {
   "cell_type": "code",
   "execution_count": 26,
   "metadata": {
    "hideCode": false,
    "hidePrompt": false
   },
   "outputs": [],
   "source": [
    "import warnings; warnings.simplefilter('ignore')\n",
    "\n",
    "import pandas as pd\n",
    "import numpy as np\n",
    "import os\n",
    "import matplotlib.pyplot as plt\n",
    "import itertools\n",
    "import functools as ft\n",
    "from itertools import chain\n",
    "\n",
    "import tensorflow as tf\n",
    "import keras as k\n",
    "\n",
    "from keras.preprocessing.text import Tokenizer\n",
    "from keras.preprocessing.sequence import pad_sequences\n",
    "from keras.utils import to_categorical\n",
    "from keras.layers import Dense, Input, GlobalMaxPooling1D, Dropout\n",
    "from keras.layers import Conv1D, MaxPooling1D, Embedding, Activation\n",
    "from keras.models import Model, Sequential, load_model\n",
    "from keras.layers.recurrent import LSTM\n",
    "from keras.initializers import Constant\n",
    "\n",
    "from gensim.models.word2vec import Word2Vec\n",
    "from gensim.models import FastText, KeyedVectors\n",
    "from gensim.models.doc2vec import Doc2Vec, TaggedDocument\n",
    "from gensim.utils import simple_preprocess\n",
    "\n",
    "from sklearn.preprocessing import LabelEncoder\n",
    "from sklearn.model_selection import train_test_split\n",
    "from sklearn.metrics import classification_report, accuracy_score, confusion_matrix\n",
    "from sklearn.ensemble import ExtraTreesClassifier\n",
    "from sklearn.utils import resample\n",
    "\n",
    "from nltk.corpus import stopwords\n",
    "from nltk.stem.wordnet import WordNetLemmatizer\n",
    "import string\n",
    "\n",
    "from livelossplot import PlotLossesKeras\n",
    "\n",
    "import requests\n",
    "from pprint import pprint\n"
   ]
  },
  {
   "cell_type": "markdown",
   "metadata": {
    "hideCode": false,
    "hidePrompt": false
   },
   "source": [
    "# Bootstrap Corpus"
   ]
  },
  {
   "cell_type": "code",
   "execution_count": 25,
   "metadata": {
    "hideCode": false,
    "hidePrompt": false
   },
   "outputs": [],
   "source": [
    "google_model = KeyedVectors.load_word2vec_format('./model/GoogleNews-vectors-negative300.bin', binary=True)"
   ]
  },
  {
   "cell_type": "markdown",
   "metadata": {
    "hideCode": false,
    "hidePrompt": false
   },
   "source": [
    "# Load Behaviors from NSV"
   ]
  },
  {
   "cell_type": "code",
   "execution_count": 3,
   "metadata": {
    "hideCode": false,
    "hidePrompt": false
   },
   "outputs": [
    {
     "data": {
      "text/plain": [
       "[['', 'chinese', 'fire', 'drill', ''],\n",
       " ['abusive', 'cycle'],\n",
       " ['action', 'assembly', 'theory'],\n",
       " ['active'],\n",
       " ['adoption'],\n",
       " ['age', '17', '19'],\n",
       " ['aggresion', 'towards', 'objects'],\n",
       " ['aggressive'],\n",
       " ['alcohol', 'use'],\n",
       " ['alienation'],\n",
       " ['alloplastic', 'adaptation'],\n",
       " ['always', 'and', '', 'never', '', 'statements'],\n",
       " ['ambitious'],\n",
       " ['anger'],\n",
       " ['animal', 'abuse'],\n",
       " ['animal', 'spirits'],\n",
       " ['argumentative'],\n",
       " ['asccismus'],\n",
       " ['assault', 'with', 'gun'],\n",
       " ['assault', 'with', 'knife'],\n",
       " ['assertive'],\n",
       " ['attention', 'deficit', 'hyperactivity', 'disorder'],\n",
       " ['attention', 'seeking'],\n",
       " ['attitude', 'change'],\n",
       " ['autoplastic', 'defense', 'mechanism'],\n",
       " ['avoidance'],\n",
       " ['avoidance', 'coping'],\n",
       " ['bad', 'coping'],\n",
       " ['bad', 'habit'],\n",
       " ['baiting'],\n",
       " ['beat'],\n",
       " ['beat', 'up'],\n",
       " ['behavior'],\n",
       " ['behavior', 'change'],\n",
       " ['behavioral', 'confirmation'],\n",
       " ['behavioral', 'contagion'],\n",
       " ['behavioral', 'modernity'],\n",
       " ['behavioral', 'urbanism'],\n",
       " ['belittle', 'partner'],\n",
       " ['belittling', '', 'condescending', 'and', 'patronizing'],\n",
       " ['bend', 'fingers'],\n",
       " ['binge', 'drinking'],\n",
       " ['bite'],\n",
       " ['blaming'],\n",
       " ['bomb', 'making'],\n",
       " ['boreout'],\n",
       " ['bossy'],\n",
       " ['break', 'up', 'with', 'girlfriend'],\n",
       " ['breastfeeding'],\n",
       " ['brodie', 's', 'law'],\n",
       " ['bullied'],\n",
       " ['bullying'],\n",
       " ['burn'],\n",
       " ['calculus', 'of', 'concepts'],\n",
       " ['careless'],\n",
       " ['catastrophizing'],\n",
       " ['cautious'],\n",
       " ['chaos', 'manufacture'],\n",
       " ['cheating'],\n",
       " ['checking', 'phone', 'without', 'permission'],\n",
       " ['choke'],\n",
       " ['chronic', 'broken', 'promises'],\n",
       " ['cigarette', 'use'],\n",
       " ['circular', 'conversations'],\n",
       " ['civil', 'inattention'],\n",
       " ['close', 'minded'],\n",
       " ['clothing', 'change'],\n",
       " ['coerced', 'sex'],\n",
       " ['cold', 'feet'],\n",
       " ['communication', 'theory'],\n",
       " ['conceited'],\n",
       " ['conduct', 'disorder'],\n",
       " ['confirmation', 'bias'],\n",
       " ['conscientious'],\n",
       " ['consistently', 'argue', 'with', 'parents'],\n",
       " ['control', 'partner'],\n",
       " ['control', 'me', 'syndrome'],\n",
       " ['controlling'],\n",
       " ['coping'],\n",
       " ['creative'],\n",
       " ['cruelty', 'to', 'animals'],\n",
       " ['cultural', 'divide'],\n",
       " ['cultural', 'mediation'],\n",
       " ['cultural', 'universal', '', 'also', '', 'human', 'universal', ''],\n",
       " ['curious'],\n",
       " ['cursory'],\n",
       " ['cutting', 'in', 'line'],\n",
       " ['death', 'obsessed', 'music'],\n",
       " ['deceitful'],\n",
       " ['defiant'],\n",
       " ['delusion'],\n",
       " ['demand', 'sex'],\n",
       " ['denial'],\n",
       " ['dependency'],\n",
       " ['depression'],\n",
       " ['dissociation'],\n",
       " ['docile'],\n",
       " ['does', 'not', 'listen', 'to', 'adults'],\n",
       " ['domestic', 'abuse'],\n",
       " ['domestic', 'theft'],\n",
       " ['domestic', 'violence'],\n",
       " ['domineering'],\n",
       " ['drunk'],\n",
       " ['dump', 'out', 'of', 'car'],\n",
       " ['early', 'childhood', 'abuse'],\n",
       " ['easily', 'frustrated'],\n",
       " ['emotional', 'abuse'],\n",
       " ['emotional', 'blackmail'],\n",
       " ['emotional', 'outburst'],\n",
       " ['engulfment'],\n",
       " ['escape', 'to', 'fantasy'],\n",
       " ['excess', 'fear'],\n",
       " ['excessive', 'jealousy'],\n",
       " ['excessive', 'worry', 'about', 'weight', 'gain'],\n",
       " ['explosive', 'anger'],\n",
       " ['explosive', 'temper'],\n",
       " ['express', 'harming', 'in', 'media'],\n",
       " ['expulsion'],\n",
       " ['extreme', 'insecurity'],\n",
       " ['extreme', 'jealousy'],\n",
       " ['extremist', 'view'],\n",
       " ['extrovert'],\n",
       " ['extroverted'],\n",
       " ['failing', 'school'],\n",
       " ['false', 'accusations'],\n",
       " ['family', 'conflict'],\n",
       " ['fast', 'paced', 'high', 'energy'],\n",
       " ['favoritism', 'and', 'scapegoating'],\n",
       " ['fear', 'of', 'abandonment'],\n",
       " ['feelings', 'of', 'emptiness'],\n",
       " ['feels', 'inferior'],\n",
       " ['few', 'friends'],\n",
       " ['force', 'intercourse'],\n",
       " ['force', 'kiss'],\n",
       " ['force', 'penetration'],\n",
       " ['force', 'sex'],\n",
       " ['force', 'touch'],\n",
       " ['frequent', 'pornography', 'usage'],\n",
       " ['friends', 'with', 'other', 'aggresive', 'children'],\n",
       " ['frivolous', 'litigation'],\n",
       " ['gang'],\n",
       " ['gaslighting'],\n",
       " ['grab', 'clothing'],\n",
       " ['grab', 'face'],\n",
       " ['grooming'],\n",
       " ['gun', 'owner', 'family'],\n",
       " ['hair', 'pull'],\n",
       " ['harassment'],\n",
       " ['harmful'],\n",
       " ['high', 'functioning', 'personality', 'disorder'],\n",
       " ['hit'],\n",
       " ['hit', 'wall'],\n",
       " ['hoarding'],\n",
       " ['hold', 'against', 'wall'],\n",
       " ['hold', 'minded'],\n",
       " ['holiday', 'triggers'],\n",
       " ['hoovers', '', '', 'hoovering'],\n",
       " ['hospitalized', 'for', 'psychiatric', 'reasons'],\n",
       " ['human', 'universal', '', 'also', '', 'cultural', 'universal', ''],\n",
       " ['humiliate'],\n",
       " ['humiliate', 'partner'],\n",
       " ['hurt'],\n",
       " ['hysteria'],\n",
       " ['identity', 'disturbance'],\n",
       " ['illicit', 'drug', 'use'],\n",
       " ['imposed', 'isolation'],\n",
       " ['impulsive'],\n",
       " ['impulsiveness'],\n",
       " ['inadequate', 'physical', 'activity'],\n",
       " ['inappropriate', 'touch'],\n",
       " ['inconsiderate'],\n",
       " ['independent'],\n",
       " ['indirect'],\n",
       " ['infantilization'],\n",
       " ['injure'],\n",
       " ['insecurity'],\n",
       " ['insult'],\n",
       " ['insult', 'boyfriend'],\n",
       " ['insult', 'girlfriend'],\n",
       " ['insult', 'partner'],\n",
       " ['intimate', 'partner', 'violence'],\n",
       " ['intimidate'],\n",
       " ['intimidation'],\n",
       " ['introvert'],\n",
       " ['introverted'],\n",
       " ['invalidation'],\n",
       " ['inventive'],\n",
       " ['irritating'],\n",
       " ['isolate', 'partner', 'from', 'family'],\n",
       " ['isolate', 'partner', 'from', 'friends'],\n",
       " ['isolation'],\n",
       " ['jealousy'],\n",
       " ['kick'],\n",
       " ['kick', 'door'],\n",
       " ['kick', 'furniture'],\n",
       " ['kick', 'wall'],\n",
       " ['lack', 'of', 'conscience'],\n",
       " ['lack', 'of', 'object', 'constancy'],\n",
       " ['lack', 'of', 'persistency'],\n",
       " ['low', 'achievement', 'orientation'],\n",
       " ['low', 'ambition'],\n",
       " ['low', 'communication'],\n",
       " ['low', 'empathy'],\n",
       " ['low', 'family', 'income'],\n",
       " ['low', 'functioning', 'personality', 'disorder'],\n",
       " ['low', 'innovation'],\n",
       " ['low', 'interest', 'in', 'education'],\n",
       " ['low', 'self', 'esteem'],\n",
       " ['magical', 'thinking'],\n",
       " ['making', 'fun'],\n",
       " ['manic'],\n",
       " ['manipulation'],\n",
       " ['manipulative'],\n",
       " ['manipulative', 'coercion'],\n",
       " ['many', 'sexual', 'partners'],\n",
       " ['masking'],\n",
       " ['mean', 'notes'],\n",
       " ['military', 'clothes'],\n",
       " ['mirroring'],\n",
       " ['moments', 'of', 'clarity'],\n",
       " ['mood', 'swings'],\n",
       " ['moody'],\n",
       " ['moralistic'],\n",
       " ['munchausen', 's', 'and', 'munchausen', 'by', 'proxy', 'syndrome'],\n",
       " ['name', 'calling'],\n",
       " ['narcissism'],\n",
       " ['neglect'],\n",
       " ['nervous'],\n",
       " ['nervous', 'excited'],\n",
       " ['no', 'win', 'scenarios'],\n",
       " ['nonverbal', 'intimidation'],\n",
       " ['normalizing'],\n",
       " ['not', 'my', 'fault', 'syndrome'],\n",
       " ['not', 'using', 'seatbelts'],\n",
       " ['objectification'],\n",
       " ['obsessed', 'with', 'guns'],\n",
       " ['obsessive', 'compulsive', 'behavior'],\n",
       " ['oppositional', 'defiant', 'disorder'],\n",
       " ['ostracizing'],\n",
       " ['panic', 'attacks'],\n",
       " ['paranoia'],\n",
       " ['parent', 'death'],\n",
       " ['parental', 'alienation', 'syndrome'],\n",
       " ['parentification'],\n",
       " ['participation', 'in', 'group', 'sex'],\n",
       " ['passive'],\n",
       " ['passive', 'aggression'],\n",
       " ['passive', 'aggressive', 'behavior'],\n",
       " ['pathological', 'lying'],\n",
       " ['perfectionism'],\n",
       " ['perfectionist'],\n",
       " ['persistent', 'nightmares'],\n",
       " ['physical', 'abuse'],\n",
       " ['physical', 'violence'],\n",
       " ['poor', 'adaptation', 'flexibility'],\n",
       " ['poor', 'detail', 'orientation'],\n",
       " ['poor', 'grades'],\n",
       " ['poor', 'intuition'],\n",
       " ['poor', 'leader'],\n",
       " ['poor', 'mental', 'health', 'score'],\n",
       " ['poor', 'persuasive', 'ability'],\n",
       " ['poor', 'team', 'player'],\n",
       " ['pornography', 'use'],\n",
       " ['possess', 'firearm'],\n",
       " ['possessive'],\n",
       " ['possessiveness'],\n",
       " ['pragmatic'],\n",
       " ['proactive'],\n",
       " ['projection'],\n",
       " ['prolonged', 'emotional', 'states'],\n",
       " ['proxy', 'recruitment'],\n",
       " ['psychological', 'distress'],\n",
       " ['psychosomatic', 'disorders'],\n",
       " ['push'],\n",
       " ['push', 'out', 'of', 'car'],\n",
       " ['push', 'partner'],\n",
       " ['push', 'pull'],\n",
       " ['put', 'partner', 'down'],\n",
       " ['raging', '', 'violence', 'and', 'impulsive', 'aggression'],\n",
       " ['random', 'violence'],\n",
       " ['ranking', 'and', 'comparing'],\n",
       " ['rape'],\n",
       " ['reactive'],\n",
       " ['rejected', 'by', 'peers'],\n",
       " ['relationship', 'hyper', 'vigilance'],\n",
       " ['reserved'],\n",
       " ['ridicule'],\n",
       " ['riding', 'the', 'emotional', 'elevator'],\n",
       " ['risk', 'taker'],\n",
       " ['robbery'],\n",
       " ['routine', 'oriented'],\n",
       " ['rude'],\n",
       " ['sabotage'],\n",
       " ['scapegoating'],\n",
       " ['school', 'suspension'],\n",
       " ['scratch'],\n",
       " ['scream', 'at', 'girlfriend'],\n",
       " ['selective', 'competence'],\n",
       " ['selective', 'memory', 'and', 'selective', 'amnesia'],\n",
       " ['self', 'aggrandizement'],\n",
       " ['self', 'harm'],\n",
       " ['self', 'loathing'],\n",
       " ['self', 'oriented'],\n",
       " ['self', 'victimization'],\n",
       " ['sense', 'of', 'entitlement'],\n",
       " ['serious'],\n",
       " ['sexual', 'assault'],\n",
       " ['sexual', 'coercion'],\n",
       " ['sexual', 'compulsivity'],\n",
       " ['sexual', 'harassment'],\n",
       " ['sexual', 'objectification'],\n",
       " ['sexually', 'active'],\n",
       " ['sexually', 'explicit', 'material'],\n",
       " ['shaming'],\n",
       " ['shy'],\n",
       " ['silent', 'treatment'],\n",
       " ['single', 'parent'],\n",
       " ['situational', 'ethics'],\n",
       " ['slam', 'against', 'wall'],\n",
       " ['slap'],\n",
       " ['sleep', 'deprivation'],\n",
       " ['smoking'],\n",
       " ['socially', 'withdrawn'],\n",
       " ['spend', 'more', 'time', 'with', 'friends'],\n",
       " ['spiteful'],\n",
       " ['splitting'],\n",
       " ['spread', 'hurtful', 'rumor'],\n",
       " ['stalking'],\n",
       " ['strangle'],\n",
       " ['stress', 'intolerant'],\n",
       " ['stunted', 'emotional', 'growth'],\n",
       " ['subject',\n",
       "  'to',\n",
       "  'negative',\n",
       "  'acts',\n",
       "  'they',\n",
       "  'can',\n",
       "  't',\n",
       "  'defend',\n",
       "  'against'],\n",
       " ['substance', 'use'],\n",
       " ['sudden', 'change', 'in', 'sleep', 'habbit'],\n",
       " ['sudden', 'weight', 'change'],\n",
       " ['suicidal'],\n",
       " ['suspensions'],\n",
       " ['swear', 'at', 'partner'],\n",
       " ['take', 'drug'],\n",
       " ['targeted', 'humor', '', 'mocking', 'and', 'sarcasm'],\n",
       " ['tell', 'cruel', 'story'],\n",
       " ['temper', 'tantrums'],\n",
       " ['terminal', 'uniqueness'],\n",
       " ['terrorize', 'partner'],\n",
       " ['testing'],\n",
       " ['the', 'abuser', 'profile'],\n",
       " ['thought', 'policing'],\n",
       " ['thoughtless'],\n",
       " ['threat'],\n",
       " ['threat', 'partner'],\n",
       " ['threats'],\n",
       " ['throw', 'something'],\n",
       " ['twist', 'arm'],\n",
       " ['un', 'conventional', 'thinker'],\n",
       " ['uncooperative'],\n",
       " ['undependable'],\n",
       " ['undiplomatic'],\n",
       " ['unprotected', 'sex'],\n",
       " ['unwanted', 'sexual', 'touch'],\n",
       " ['victim'],\n",
       " ['visible', 'prolonged', 'sadness'],\n",
       " ['weak', 'school', 'bond'],\n",
       " ['weak', 'social', 'ties'],\n",
       " ['weapon', 'use'],\n",
       " ['yell', 'at', 'girlfriend'],\n",
       " ['leather', 'jacket'],\n",
       " ['disruptive', 'behavior'],\n",
       " ['vandalism'],\n",
       " ['problems', 'with', 'authority'],\n",
       " ['concentration', 'issues']]"
      ]
     },
     "execution_count": 3,
     "metadata": {},
     "output_type": "execute_result"
    }
   ],
   "source": [
    "doc_complete = pd.read_csv('../Data/behavior.csv')\n",
    "doc_complete = list(doc_complete.iloc[:,1])\n",
    "\n",
    "doc = [d.split(' ') for d in doc_complete]\n",
    "\n",
    "doc"
   ]
  },
  {
   "cell_type": "markdown",
   "metadata": {
    "hideCode": false,
    "hidePrompt": false
   },
   "source": [
    "# Remove stop words, Lemmatize"
   ]
  },
  {
   "cell_type": "code",
   "execution_count": 4,
   "metadata": {
    "hideCode": false,
    "hidePrompt": false
   },
   "outputs": [],
   "source": [
    "stop = set(stopwords.words('english'))\n",
    "exclude = set(string.punctuation)\n",
    "lemma = WordNetLemmatizer()"
   ]
  },
  {
   "cell_type": "code",
   "execution_count": 5,
   "metadata": {
    "hideCode": false,
    "hidePrompt": false
   },
   "outputs": [],
   "source": [
    "def clean_lemmatize(doc):\n",
    "    \"\"\"lemmatize and clean doc\"\"\"\n",
    "    stop_free = \" \".join([i for i in doc.lower().split() if i not in stop])\n",
    "    punc_free = ''.join(ch for ch in stop_free if ch not in exclude)\n",
    "    normalized = \" \".join(lemma.lemmatize(word) for word in punc_free.split())\n",
    "    return normalized\n",
    "\n",
    "# Run word_list into an input volume\n",
    "def clean(word_list):\n",
    "    lemmatized_list = []\n",
    "    for word in word_list:\n",
    "        #assert type(word) == list\n",
    "        if type(word) == list:\n",
    "            temp = [clean_lemmatize(x) for x in word]\n",
    "            lemmatized_list.append(temp)\n",
    "    for i in range(len(lemmatized_list)):\n",
    "        temp = [x for x in lemmatized_list[i] if x!= '' and x.isalpha()]\n",
    "        lemmatized_list[i] = temp\n",
    "        \n",
    "    return lemmatized_list"
   ]
  },
  {
   "cell_type": "code",
   "execution_count": 6,
   "metadata": {
    "hideCode": false,
    "hidePrompt": false
   },
   "outputs": [],
   "source": [
    "clean_words = clean(doc)"
   ]
  },
  {
   "cell_type": "markdown",
   "metadata": {
    "hideCode": false,
    "hidePrompt": false
   },
   "source": [
    "# Create Word2Vec, FastText models"
   ]
  },
  {
   "cell_type": "code",
   "execution_count": 7,
   "metadata": {
    "hideCode": false,
    "hidePrompt": false
   },
   "outputs": [],
   "source": [
    "w2v_model = Word2Vec(clean_words, size=300, window=5, min_count=5, iter=100, workers=-1)\n",
    "ft_model = FastText(clean_words, size=300, window=5, min_count=5, iter=100, workers=-1)"
   ]
  },
  {
   "cell_type": "code",
   "execution_count": 8,
   "metadata": {
    "hideCode": false,
    "hidePrompt": false
   },
   "outputs": [],
   "source": [
    "w2v = {w: vec for w, vec in zip(w2v_model.wv.index2word, w2v_model.wv.syn0)}\n",
    "ftm = {w: vec for w, vec in zip(ft_model.wv.index2word, ft_model.wv.syn0)}\n",
    "\n",
    "w2v_google = {w: vec for w, vec in zip(w2v_model.wv.index2word, google_model.wv.syn0)}"
   ]
  },
  {
   "cell_type": "code",
   "execution_count": 9,
   "metadata": {
    "hideCode": false,
    "hidePrompt": false
   },
   "outputs": [
    {
     "data": {
      "text/plain": [
       "((300,), (300,), (300,))"
      ]
     },
     "execution_count": 9,
     "metadata": {},
     "output_type": "execute_result"
    }
   ],
   "source": [
    "w2v['violence'].shape, ftm['violence'].shape, w2v_google['violence'].shape"
   ]
  },
  {
   "cell_type": "code",
   "execution_count": 10,
   "metadata": {
    "hideCode": false,
    "hidePrompt": false
   },
   "outputs": [
    {
     "data": {
      "text/plain": [
       "array([ 0.08496094, -0.09521484,  0.11914062,  0.11181641, -0.11132812,\n",
       "        0.04980469,  0.11425781, -0.09863281,  0.09960938, -0.04150391,\n",
       "        0.01287842, -0.18164062, -0.11621094,  0.02380371, -0.1640625 ,\n",
       "        0.12695312,  0.12060547,  0.00946045,  0.04150391, -0.09521484,\n",
       "       -0.12988281, -0.11523438,  0.07519531, -0.04980469,  0.06591797,\n",
       "       -0.02905273, -0.08984375,  0.08447266, -0.04785156, -0.02709961],\n",
       "      dtype=float32)"
      ]
     },
     "execution_count": 10,
     "metadata": {},
     "output_type": "execute_result"
    }
   ],
   "source": [
    "w2v_google['violence'][:30]"
   ]
  },
  {
   "cell_type": "markdown",
   "metadata": {
    "hideCode": false,
    "hidePrompt": false
   },
   "source": [
    "# Similar words"
   ]
  },
  {
   "cell_type": "code",
   "execution_count": 13,
   "metadata": {
    "hideCode": false,
    "hidePrompt": false
   },
   "outputs": [],
   "source": [
    "def similarWords(word_list, model):\n",
    "    pretrained_weights = model.wv.syn0\n",
    "    vocab_size, emdedding_size = pretrained_weights.shape\n",
    "    print('Result embedding shape:', pretrained_weights.shape)\n",
    "    print('Checking similar words:')\n",
    "    for word in word_list:\n",
    "        most_similar = ', '.join('%s (%.2f)' % (similar, dist)\n",
    "                                 for similar, dist in model.most_similar(word)[:8])\n",
    "    print('  %s -> %s' % (word, most_similar))"
   ]
  },
  {
   "cell_type": "code",
   "execution_count": 14,
   "metadata": {
    "hideCode": false,
    "hidePrompt": false
   },
   "outputs": [
    {
     "name": "stdout",
     "output_type": "stream",
     "text": [
      "Result embedding shape: (3000000, 300)\n",
      "Checking similar words:\n",
      "  violence -> Violence (0.74), bloodshed (0.71), sectarian_violence (0.65), vio_lence (0.63), violent (0.62), violance (0.61), voilence (0.60), lawlessness (0.58)\n",
      "Result embedding shape: (14, 300)\n",
      "Checking similar words:\n",
      "  violence -> poor (0.11), abuse (0.10), disorder (0.04), behavior (0.04), sexual (0.03), use (0.03), force (0.02), change (0.01)\n"
     ]
    }
   ],
   "source": [
    "similarWords(['violence'], google_model)\n",
    "similarWords(['violence'], w2v_model)"
   ]
  },
  {
   "cell_type": "markdown",
   "metadata": {
    "hideCode": false,
    "hidePrompt": false
   },
   "source": [
    "# Topic Modeling with Cognitive Services"
   ]
  },
  {
   "cell_type": "code",
   "execution_count": 15,
   "metadata": {
    "hideCode": false,
    "hidePrompt": false
   },
   "outputs": [
    {
     "name": "stdout",
     "output_type": "stream",
     "text": [
      "https://westus2.api.cognitive.microsoft.com/text/analytics/v2.0/keyPhrases\n",
      "{'documents': [{'id': '1',\n",
      "                'keyPhrases': ['wonderful experience', 'staff', 'rooms']},\n",
      "               {'id': '2',\n",
      "                'keyPhrases': ['food', 'terrible time', 'hotel', 'staff']}],\n",
      " 'errors': []}\n"
     ]
    }
   ],
   "source": [
    "subscription_key = '411aeb319831426bba5cfa04a862b6a0'\n",
    "text_analytics_base_url = \"https://westus2.api.cognitive.microsoft.com/text/analytics/v2.0\"\n",
    "key_phrase_api_url = text_analytics_base_url + \"/keyPhrases\"\n",
    "print(key_phrase_api_url)\n",
    "documents = {'documents' : [\n",
    "  {'id': '1', 'language': 'en', 'text': 'I had a wonderful experience! The rooms were wonderful and the staff was helpful.'},\n",
    "  {'id': '2', 'language': 'en', 'text': 'I had a terrible time at the hotel. The staff was rude and the food was awful.'},  \n",
    "]}\n",
    "headers   = {'Ocp-Apim-Subscription-Key': subscription_key}\n",
    "response  = requests.post(key_phrase_api_url, headers=headers, json=documents)\n",
    "key_phrases = response.json()\n",
    "pprint(key_phrases)"
   ]
  },
  {
   "cell_type": "markdown",
   "metadata": {
    "hideCode": false,
    "hidePrompt": false
   },
   "source": [
    "# Classification"
   ]
  },
  {
   "cell_type": "code",
   "execution_count": 16,
   "metadata": {
    "hideCode": false,
    "hidePrompt": false
   },
   "outputs": [
    {
     "name": "stdout",
     "output_type": "stream",
     "text": [
      "(370, 6, 300)\n",
      "(370, 4)\n"
     ]
    }
   ],
   "source": [
    "# set parameters and load data\n",
    "epochs = 100\n",
    "batch_size = 10\n",
    "time_steps = 6\n",
    "features = 300\n",
    "\n",
    "features_path = 'input_vol.npy'\n",
    "labels_path = 'input_label.npy'\n",
    "\n",
    "X = np.load(features_path)\n",
    "Y = np.load(labels_path)\n",
    "print(X.shape)\n",
    "print(Y.shape)"
   ]
  },
  {
   "cell_type": "code",
   "execution_count": 17,
   "metadata": {
    "hideCode": false,
    "hidePrompt": false
   },
   "outputs": [],
   "source": [
    "# randomly shuffle data\n",
    "s = np.arange(X.shape[0])\n",
    "np.random.shuffle(s)\n",
    "X = X[s]\n",
    "Y = Y[s]"
   ]
  },
  {
   "cell_type": "code",
   "execution_count": 18,
   "metadata": {
    "hideCode": false,
    "hidePrompt": false
   },
   "outputs": [],
   "source": [
    "# split data into train and test sets\n",
    "train_X = X[0:296,:,:]\n",
    "test_X = X[297:369,:,:]\n",
    "\n",
    "train_Y = Y[0:296,:]\n",
    "test_Y = Y[297:369,:]"
   ]
  },
  {
   "cell_type": "code",
   "execution_count": 19,
   "metadata": {
    "hideCode": false,
    "hidePrompt": false
   },
   "outputs": [
    {
     "name": "stdout",
     "output_type": "stream",
     "text": [
      "_________________________________________________________________\n",
      "Layer (type)                 Output Shape              Param #   \n",
      "=================================================================\n",
      "lstm_1 (LSTM)                (None, 100)               160400    \n",
      "_________________________________________________________________\n",
      "activation_1 (Activation)    (None, 100)               0         \n",
      "_________________________________________________________________\n",
      "dense_1 (Dense)              (None, 4)                 404       \n",
      "=================================================================\n",
      "Total params: 160,804\n",
      "Trainable params: 160,804\n",
      "Non-trainable params: 0\n",
      "_________________________________________________________________\n",
      "None\n"
     ]
    }
   ],
   "source": [
    "# build LSTM layers and train model\n",
    "model = Sequential()\n",
    "model.add(LSTM(100, dropout= 0.2, input_shape=(time_steps, features)))\n",
    "model.add(Activation('relu'))\n",
    "model.add(Dense(4, activation='sigmoid'))\n",
    "model.compile(loss='binary_crossentropy', optimizer='adam', metrics=['accuracy'])\n",
    "print(model.summary())"
   ]
  },
  {
   "cell_type": "code",
   "execution_count": 20,
   "metadata": {
    "hideCode": false,
    "hidePrompt": false
   },
   "outputs": [
    {
     "data": {
      "image/png": "[encoded data removed]",
      "text/plain": [
       "<Figure size 864x576 with 2 Axes>"
      ]
     },
     "metadata": {},
     "output_type": "display_data"
    },
    {
     "data": {
      "text/plain": [
       "<keras.callbacks.History at 0x1e34624c518>"
      ]
     },
     "execution_count": 20,
     "metadata": {},
     "output_type": "execute_result"
    }
   ],
   "source": [
    "model.fit(train_X, train_Y, validation_data=(test_X, test_Y), epochs=epochs, batch_size=batch_size, callbacks=[PlotLossesKeras()])"
   ]
  },
  {
   "cell_type": "code",
   "execution_count": 21,
   "metadata": {
    "hideCode": false,
    "hidePrompt": false
   },
   "outputs": [],
   "source": [
    "# load model & data/shuffle it was generated with:\n",
    "model = load_model('model.h5')\n",
    "train_X = np.load('train_X.npy')\n",
    "train_Y = np.load('train_Y.npy')\n",
    "test_X = np.load('test_X.npy')\n",
    "test_Y = np.load('test_Y.npy')"
   ]
  },
  {
   "cell_type": "code",
   "execution_count": 22,
   "metadata": {
    "hideCode": false,
    "hidePrompt": false
   },
   "outputs": [
    {
     "name": "stdout",
     "output_type": "stream",
     "text": [
      "Accuracy: 73.96%\n"
     ]
    }
   ],
   "source": [
    "# score model and log accuracy\n",
    "scores = model.evaluate(test_X, test_Y, verbose=0)\n",
    "print(\"Accuracy: %.2f%%\" % (scores[1]*100))"
   ]
  },
  {
   "cell_type": "code",
   "execution_count": 23,
   "metadata": {
    "hideCode": false,
    "hidePrompt": false
   },
   "outputs": [
    {
     "data": {
      "text/plain": [
       "array([[9.71438348e-01, 2.12540937e-04, 1.37556531e-03, 3.06578761e-04],\n",
       "       [1.24091851e-02, 9.98596847e-01, 3.12259376e-01, 1.27248539e-04],\n",
       "       [6.20451348e-04, 3.22170346e-03, 9.41281140e-01, 9.98198926e-01],\n",
       "       [1.15530530e-03, 2.68097175e-03, 3.09408666e-03, 9.99265134e-01],\n",
       "       [9.97535229e-01, 1.02909096e-02, 9.86129105e-01, 1.99472197e-04],\n",
       "       [6.79294253e-03, 1.97275484e-04, 9.27828223e-05, 1.11442758e-02],\n",
       "       [1.09338085e-03, 5.13771083e-04, 1.68889310e-04, 2.39704925e-04],\n",
       "       [5.30121336e-03, 5.56225896e-05, 1.93081127e-04, 1.47235638e-03],\n",
       "       [9.18874264e-01, 3.89383687e-03, 1.25234819e-03, 1.05569598e-04],\n",
       "       [8.66272021e-03, 2.16033033e-04, 9.31978524e-01, 3.13994586e-02],\n",
       "       [2.71680169e-02, 1.41049226e-04, 9.88988340e-01, 2.83243810e-03],\n",
       "       [2.25122645e-01, 9.95625496e-01, 9.89385188e-01, 1.90126142e-04],\n",
       "       [9.99193966e-01, 3.47900875e-02, 9.97173429e-01, 9.15699347e-04],\n",
       "       [9.89573419e-01, 1.35590807e-02, 9.56788003e-01, 9.99357522e-01],\n",
       "       [6.54582458e-04, 8.37029307e-04, 1.01240614e-04, 3.20770108e-04],\n",
       "       [7.60909691e-02, 2.37426255e-02, 7.78775488e-04, 3.64234895e-02],\n",
       "       [1.26193889e-04, 3.47429402e-02, 2.14794138e-03, 9.46169719e-04],\n",
       "       [9.98848081e-01, 3.81761743e-03, 1.38152321e-03, 3.94296629e-04],\n",
       "       [1.45088256e-04, 9.98743117e-01, 1.36611760e-01, 5.42555869e-01],\n",
       "       [9.85145688e-01, 3.57141485e-03, 9.96009588e-01, 1.08034094e-03],\n",
       "       [3.13502908e-01, 9.99668717e-01, 4.65554092e-03, 4.14586946e-04],\n",
       "       [9.98909473e-01, 1.61985552e-03, 9.98295844e-01, 8.21871102e-01],\n",
       "       [3.15358513e-03, 1.20916241e-03, 7.50653053e-05, 2.46270647e-04],\n",
       "       [5.27494967e-01, 1.52425864e-03, 5.94324447e-05, 9.76778984e-01],\n",
       "       [7.24441779e-04, 2.05274463e-01, 3.11851174e-01, 9.99198139e-01],\n",
       "       [4.12773602e-02, 3.83997411e-01, 2.34111489e-04, 9.98581290e-01],\n",
       "       [2.16553640e-03, 2.55978841e-04, 4.13998496e-04, 2.61096196e-04],\n",
       "       [1.77639760e-02, 7.07318366e-01, 1.25238986e-03, 9.99526262e-01],\n",
       "       [7.80100934e-04, 1.94467953e-04, 1.27466395e-04, 4.03394253e-04],\n",
       "       [1.17407215e-03, 2.07574907e-04, 1.19435492e-04, 2.71935191e-04]],\n",
       "      dtype=float32)"
      ]
     },
     "execution_count": 23,
     "metadata": {},
     "output_type": "execute_result"
    }
   ],
   "source": [
    "# get predictions\n",
    "y_pred = model.predict(test_X)\n",
    "y_pred[:30]"
   ]
  },
  {
   "cell_type": "code",
   "execution_count": null,
   "metadata": {
    "hideCode": false,
    "hidePrompt": false
   },
   "outputs": [],
   "source": []
  }
 ],
 "metadata": {
  "hide_code_all_hidden": false,
  "kernelspec": {
   "display_name": "Python [conda env:tensorflow]",
   "language": "python",
   "name": "conda-env-tensorflow-py"
  },
  "language_info": {
   "codemirror_mode": {
    "name": "ipython",
    "version": 3
   },
   "file_extension": ".py",
   "mimetype": "text/x-python",
   "name": "python",
   "nbconvert_exporter": "python",
   "pygments_lexer": "ipython3",
   "version": "3.5.5"
  }
 },
 "nbformat": 4,
 "nbformat_minor": 2
}
